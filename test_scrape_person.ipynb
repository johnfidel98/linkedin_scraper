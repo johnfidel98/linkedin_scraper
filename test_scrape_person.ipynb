{
 "cells": [
  {
   "cell_type": "code",
   "execution_count": 1,
   "metadata": {},
   "outputs": [
    {
     "data": {
      "text/plain": [
       "True"
      ]
     },
     "execution_count": 1,
     "metadata": {},
     "output_type": "execute_result"
    }
   ],
   "source": [
    "import os\n",
    "from selenium import webdriver\n",
    "from decouple import config\n",
    "from linkedin_scraper import Person, actions\n",
    "from dotenv import load_dotenv\n",
    "\n",
    "load_dotenv()"
   ]
  },
  {
   "cell_type": "code",
   "execution_count": 2,
   "metadata": {},
   "outputs": [
    {
     "name": "stderr",
     "output_type": "stream",
     "text": [
      "C:\\Users\\matriux\\AppData\\Local\\Temp\\ipykernel_12864\\2323526833.py:2: DeprecationWarning: executable_path has been deprecated, please pass in a Service object\n",
      "  driver = webdriver.Chrome('chromedriver.exe')\n"
     ]
    }
   ],
   "source": [
    "# login to linkedin using credentials from .env file\n",
    "driver = webdriver.Chrome('chromedriver.exe') \n",
    "actions.login(driver, os.environ.get('email'), os.environ.get('password'))"
   ]
  },
  {
   "cell_type": "code",
   "execution_count": 3,
   "metadata": {},
   "outputs": [],
   "source": [
    "# extract profile data\n",
    "profile_data = Person(\"https://in.linkedin.com/in/anirudra-choudhury-109635b1\", driver=driver)"
   ]
  },
  {
   "cell_type": "code",
   "execution_count": 5,
   "metadata": {},
   "outputs": [
    {
     "data": {
      "text/plain": [
       "[Skill(name='Computer-Aided Design (CAD)\\nComputer-Aided Design (CAD)', endorsements=None),\n",
       " Skill(name='Autodesk Inventor\\nAutodesk Inventor', endorsements=None),\n",
       " Skill(name='Mechanical Engineering\\nMechanical Engineering', endorsements='4 experiences across MACMET ENGINEERING LIMITED and 3 other companies\\n4 experiences across MACMET ENGINEERING LIMITED and 3 other companies')]"
      ]
     },
     "execution_count": 5,
     "metadata": {},
     "output_type": "execute_result"
    }
   ],
   "source": [
    "profile_data.skills"
   ]
  },
  {
   "cell_type": "code",
   "execution_count": 4,
   "metadata": {},
   "outputs": [
    {
     "name": "stdout",
     "output_type": "stream",
     "text": [
      "Anirudra Choudhury\n",
      "\n",
      "About\n",
      "[]\n",
      "\n",
      "Experience\n",
      "[Experience(institution_name='Flexur Systems · Full-time\\nFlexur Systems · Full-time', website=None, industry=None, type=None, headquarters=None, company_size=None, founded=None, description=None, position_title='Technical Lead (Autodesk Practice)\\nTechnical Lead (Autodesk Practice)', duration='Jul 2021 - Present · 1 yr 3 mos\\nJul 2021 - Present · 1 yr 3 mos'), Experience(institution_name='MACMET ENGINEERING LIMITED · Full-time\\nMACMET ENGINEERING LIMITED · Full-time', website=None, industry=None, type=None, headquarters=None, company_size=None, founded=None, description=None, position_title='Autodesk Vault Administrator\\nAutodesk Vault Administrator', duration='Jan 2018 - Jun 2021 · 3 yrs 6 mos\\nJan 2018 - Jun 2021 · 3 yrs 6 mos'), Experience(institution_name='EASTMAN CRUSHER CO PVT LTD\\nEASTMAN CRUSHER CO PVT LTD', website=None, industry=None, type=None, headquarters=None, company_size=None, founded=None, description=None, position_title='Deputy Manager\\nDeputy Manager', duration='Dec 2016 - Jan 2018 · 1 yr 2 mos\\nDec 2016 - Jan 2018 · 1 yr 2 mos'), Experience(institution_name='BRG Group of Companies\\nBRG Group of Companies', website=None, industry=None, type=None, headquarters=None, company_size=None, founded=None, description=None, position_title='DESIGN ENGINEER\\nDESIGN ENGINEER', duration='Sep 2016 - Dec 2016 · 4 mos\\nSep 2016 - Dec 2016 · 4 mos'), Experience(institution_name='BRG Group of Companies\\nBRG Group of Companies', website=None, industry=None, type=None, headquarters=None, company_size=None, founded=None, description=None, position_title='Graduate Engineering Trainee\\nGraduate Engineering Trainee', duration='Jun 2015 - Aug 2016 · 1 yr 3 mos\\nJun 2015 - Aug 2016 · 1 yr 3 mos')]\n",
      "\n",
      "Education\n",
      "[Education(institution_name='swami vivekananda institute of science & technology\\nswami vivekananda institute of science & technology', website=None, industry=None, type=None, headquarters=None, company_size=None, founded=None, from_date=None, to_date=None, description=None, degree=None)]\n",
      "\n",
      "Interest\n",
      "[Interest(institution_name='Aman Gupta\\nAman Gupta', website=None, industry=None, type=None, headquarters=None, company_size=None, founded=None), Interest(institution_name='', website=None, industry=None, type=None, headquarters=None, company_size=None, founded=None), Interest(institution_name='', website=None, industry=None, type=None, headquarters=None, company_size=None, founded=None), Interest(institution_name='', website=None, industry=None, type=None, headquarters=None, company_size=None, founded=None), Interest(institution_name='', website=None, industry=None, type=None, headquarters=None, company_size=None, founded=None)]\n",
      "\n",
      "Accomplishments\n",
      "[]\n",
      "\n",
      "Contacts\n",
      "[]\n"
     ]
    }
   ],
   "source": [
    "print(profile_data)"
   ]
  }
 ],
 "metadata": {
  "interpreter": {
   "hash": "0ad0b9a85f85437b2f5fb4acfab1906ce97191c57cc4fd169b6587dea84ff4b9"
  },
  "kernelspec": {
   "display_name": "Python 3.8.12 ('vincitori')",
   "language": "python",
   "name": "python3"
  },
  "language_info": {
   "codemirror_mode": {
    "name": "ipython",
    "version": 3
   },
   "file_extension": ".py",
   "mimetype": "text/x-python",
   "name": "python",
   "nbconvert_exporter": "python",
   "pygments_lexer": "ipython3",
   "version": "3.8.12"
  },
  "orig_nbformat": 4
 },
 "nbformat": 4,
 "nbformat_minor": 2
}
