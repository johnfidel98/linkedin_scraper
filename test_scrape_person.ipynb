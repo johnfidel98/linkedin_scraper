{
 "cells": [
  {
   "cell_type": "code",
   "execution_count": 2,
   "metadata": {},
   "outputs": [
    {
     "data": {
      "text/plain": [
       "True"
      ]
     },
     "execution_count": 2,
     "metadata": {},
     "output_type": "execute_result"
    }
   ],
   "source": [
    "import os\n",
    "import time\n",
    "import pickle\n",
    "from random import randint\n",
    "from selenium import webdriver\n",
    "from linkedin_scraper import Person, actions\n",
    "from dotenv import load_dotenv\n",
    "\n",
    "load_dotenv()"
   ]
  },
  {
   "cell_type": "code",
   "execution_count": 3,
   "metadata": {},
   "outputs": [
    {
     "name": "stderr",
     "output_type": "stream",
     "text": [
      "/tmp/ipykernel_11520/4269802056.py:6: DeprecationWarning: executable_path has been deprecated, please pass in a Service object\n",
      "  driver = webdriver.Chrome('./chromedriver', chrome_options=chrome_options)\n",
      "/tmp/ipykernel_11520/4269802056.py:6: DeprecationWarning: use options instead of chrome_options\n",
      "  driver = webdriver.Chrome('./chromedriver', chrome_options=chrome_options)\n"
     ]
    }
   ],
   "source": [
    "# login to linkedin using credentials from .env file\n",
    "chrome_options = webdriver.ChromeOptions()\n",
    "chrome_options.add_argument('--headless')\n",
    "chrome_options.add_argument(\"--window-size=1440,768\")\n",
    "\n",
    "driver = webdriver.Chrome('./chromedriver', chrome_options=chrome_options) \n",
    "\n",
    "actions.login(driver, os.environ.get('email'), os.environ.get('password'))\n",
    "pickle.dump(driver.get_cookies() , open(\"linkedin-cookies.pkl\", \"wb\"))"
   ]
  },
  {
   "cell_type": "code",
   "execution_count": 4,
   "metadata": {},
   "outputs": [
    {
     "data": {
      "text/plain": [
       "True"
      ]
     },
     "execution_count": 4,
     "metadata": {},
     "output_type": "execute_result"
    }
   ],
   "source": [
    "driver.save_screenshot('sample.png')"
   ]
  },
  {
   "cell_type": "code",
   "execution_count": 5,
   "metadata": {},
   "outputs": [],
   "source": [
    "def refresh_driver(url):\n",
    "    global driver\n",
    "\n",
    "    driver = webdriver.Chrome('chromedriver', chrome_options=chrome_options)\n",
    "    driver.get('https://in.linkedin.com/')\n",
    "\n",
    "    cookies = pickle.load(open('linkedin-cookies.pkl', 'rb'))\n",
    "    for cookie in cookies:\n",
    "        try:\n",
    "            # only set supported cookies\n",
    "            driver.add_cookie(cookie)\n",
    "        except Exception:\n",
    "            pass\n",
    "\n",
    "    time.sleep(randint(4, 9))\n",
    "    driver.get(f'{url}')"
   ]
  },
  {
   "cell_type": "code",
   "execution_count": 6,
   "metadata": {},
   "outputs": [],
   "source": [
    "# extract profile data\n",
    "profile_data = Person(\"https://in.linkedin.com/in/anirudra-choudhury-109635b1\", driver=driver, close_on_complete=False)"
   ]
  },
  {
   "cell_type": "code",
   "execution_count": 7,
   "metadata": {},
   "outputs": [
    {
     "name": "stdout",
     "output_type": "stream",
     "text": [
      "Anirudra Choudhury\n",
      "\n",
      "About\n",
      "[]\n",
      "\n",
      "Experience\n",
      "[Experience(institution_name='Flexur Systems · Full-time', position_title='Technical Lead (Autodesk Practice)', duration='Jul 2021 - Present · 1 yr 3 mos'), Experience(institution_name='MACMET ENGINEERING LIMITED · Full-time', position_title='Autodesk Vault Administrator', duration='Jan 2018 - Jun 2021 · 3 yrs 6 mos'), Experience(institution_name='EASTMAN CRUSHER CO PVT LTD', position_title='Deputy Manager', duration='Dec 2016 - Jan 2018 · 1 yr 2 mos'), Experience(institution_name='BRG Group of Companies', position_title='DESIGN ENGINEER', duration='Sep 2016 - Dec 2016 · 4 mos'), Experience(institution_name='BRG Group of Companies', position_title='Graduate Engineering Trainee', duration='Jun 2015 - Aug 2016 · 1 yr 3 mos')]\n",
      "\n",
      "Education\n",
      "[Education(institution_name='swami vivekananda institute of science & technology', from_date=None, to_date=None, degree=None)]\n",
      "\n",
      "Interest\n",
      "[]\n",
      "\n",
      "Skills\n",
      "[Skill(name='Computer-Aided Design (CAD)', endorsements=None), Skill(name='Autodesk Inventor', endorsements=None), Skill(name='Mechanical Engineering', endorsements='4 experiences across MACMET ENGINEERING LIMITED and 3 other companies')]\n"
     ]
    }
   ],
   "source": [
    "print(profile_data)"
   ]
  }
 ],
 "metadata": {
  "kernelspec": {
   "display_name": "Python 3.8.12 ('vincitori')",
   "language": "python",
   "name": "python3"
  },
  "language_info": {
   "codemirror_mode": {
    "name": "ipython",
    "version": 3
   },
   "file_extension": ".py",
   "mimetype": "text/x-python",
   "name": "python",
   "nbconvert_exporter": "python",
   "pygments_lexer": "ipython3",
   "version": "3.8.12"
  },
  "orig_nbformat": 4,
  "vscode": {
   "interpreter": {
    "hash": "a510db1474d4c6842f5b692f1a0d08849404c25fa57b204d585d64e4c08ddc5e"
   }
  }
 },
 "nbformat": 4,
 "nbformat_minor": 2
}
