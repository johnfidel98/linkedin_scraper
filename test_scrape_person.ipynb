{
 "cells": [
  {
   "cell_type": "code",
   "execution_count": 18,
   "metadata": {},
   "outputs": [
    {
     "data": {
      "text/plain": [
       "True"
      ]
     },
     "execution_count": 18,
     "metadata": {},
     "output_type": "execute_result"
    }
   ],
   "source": [
    "import os\n",
    "from selenium import webdriver\n",
    "from linkedin_scraper import Person, actions\n",
    "from dotenv import load_dotenv\n",
    "\n",
    "load_dotenv()"
   ]
  },
  {
   "cell_type": "code",
   "execution_count": 19,
   "metadata": {},
   "outputs": [
    {
     "name": "stderr",
     "output_type": "stream",
     "text": [
      "C:\\Users\\matriux\\AppData\\Local\\Temp\\ipykernel_10164\\1711721026.py:6: DeprecationWarning: executable_path has been deprecated, please pass in a Service object\n",
      "  driver = webdriver.Chrome('chromedriver.exe', chrome_options=chrome_options)\n",
      "C:\\Users\\matriux\\AppData\\Local\\Temp\\ipykernel_10164\\1711721026.py:6: DeprecationWarning: use options instead of chrome_options\n",
      "  driver = webdriver.Chrome('chromedriver.exe', chrome_options=chrome_options)\n"
     ]
    }
   ],
   "source": [
    "# login to linkedin using credentials from .env file\n",
    "chrome_options = webdriver.ChromeOptions()\n",
    "chrome_options.add_argument('--headless')\n",
    "chrome_options.add_argument(\"--window-size=1440,768\")\n",
    "\n",
    "driver = webdriver.Chrome('chromedriver.exe', chrome_options=chrome_options) \n",
    "\n",
    "actions.login(driver, os.environ.get('email'), os.environ.get('password'))"
   ]
  },
  {
   "cell_type": "code",
   "execution_count": 20,
   "metadata": {},
   "outputs": [],
   "source": [
    "# extract profile data\n",
    "profile_data = Person(\"https://in.linkedin.com/in/anirudra-choudhury-109635b1\", driver=driver, close_on_complete=False)"
   ]
  },
  {
   "cell_type": "code",
   "execution_count": 22,
   "metadata": {},
   "outputs": [
    {
     "name": "stdout",
     "output_type": "stream",
     "text": [
      "Anirudra Choudhury\n",
      "\n",
      "About\n",
      "['Choosing Career in Mechanical Design Stream from my Passion of bringing Design ideas into reality by using the technology available. I have driven by my passion to speed up design and development process by using Technology to allow us to spend more time in innovative ideas.\\n\\nI am having a continuous and very quick learning attitude for everything. In my Industry Experience I have acquired knowledge in Autodesk Inventor, AutoCAD, Catia in Product designing Applications. i also Acquired knowledge in design Automation using API. I also gathered expertise in python and powershell to Automate regular data management works.\\n\\nI have passion in Information Technology and Education in Mechanical Engineering so I am building a bridge between them to serve the industry more effectively.\\nChoosing Career in Mechanical Design Stream from my Passion of bringing Design ideas into reality by using the technology available. I have driven by my passion to speed up design and development process by using Technology to allow us to spend more time in innovative ideas. I am having a continuous and very quick learning attitude for everything. In my Industry Experience I have acquired knowledge in Autodesk Inventor, AutoCAD, Catia in Product designing Applications. i also Acquired knowledge in design Automation using API. I also gathered expertise in python and powershell to Automate regular data management works. I have passion in Information Technology and Education in Mechanical Engineering so I am building a bridge between them to serve the industry more effectively.']\n",
      "\n",
      "Experience\n",
      "[Experience(institution_name='Flexur Systems · Full-time\\nFlexur Systems · Full-time', website=None, industry=None, type=None, headquarters=None, company_size=None, founded=None, description=None, position_title='Technical Lead (Autodesk Practice)\\nTechnical Lead (Autodesk Practice)', duration='Jul 2021 - Present · 1 yr 3 mos\\nJul 2021 - Present · 1 yr 3 mos'), Experience(institution_name='MACMET ENGINEERING LIMITED · Full-time\\nMACMET ENGINEERING LIMITED · Full-time', website=None, industry=None, type=None, headquarters=None, company_size=None, founded=None, description=None, position_title='Autodesk Vault Administrator\\nAutodesk Vault Administrator', duration='Jan 2018 - Jun 2021 · 3 yrs 6 mos\\nJan 2018 - Jun 2021 · 3 yrs 6 mos'), Experience(institution_name='EASTMAN CRUSHER CO PVT LTD\\nEASTMAN CRUSHER CO PVT LTD', website=None, industry=None, type=None, headquarters=None, company_size=None, founded=None, description=None, position_title='Deputy Manager\\nDeputy Manager', duration='Dec 2016 - Jan 2018 · 1 yr 2 mos\\nDec 2016 - Jan 2018 · 1 yr 2 mos'), Experience(institution_name='BRG Group of Companies\\nBRG Group of Companies', website=None, industry=None, type=None, headquarters=None, company_size=None, founded=None, description=None, position_title='DESIGN ENGINEER\\nDESIGN ENGINEER', duration='Sep 2016 - Dec 2016 · 4 mos\\nSep 2016 - Dec 2016 · 4 mos'), Experience(institution_name='BRG Group of Companies\\nBRG Group of Companies', website=None, industry=None, type=None, headquarters=None, company_size=None, founded=None, description=None, position_title='Graduate Engineering Trainee\\nGraduate Engineering Trainee', duration='Jun 2015 - Aug 2016 · 1 yr 3 mos\\nJun 2015 - Aug 2016 · 1 yr 3 mos')]\n",
      "\n",
      "Education\n",
      "[Education(institution_name='swami vivekananda institute of science & technology\\nswami vivekananda institute of science & technology', website=None, industry=None, type=None, headquarters=None, company_size=None, founded=None, from_date=None, to_date=None, description=None, degree=None)]\n",
      "\n",
      "Interest\n",
      "[Interest(institution_name='Aman Gupta\\nAman Gupta', website=None, industry=None, type=None, headquarters=None, company_size=None, founded=None), Interest(institution_name='', website=None, industry=None, type=None, headquarters=None, company_size=None, founded=None), Interest(institution_name='', website=None, industry=None, type=None, headquarters=None, company_size=None, founded=None), Interest(institution_name='', website=None, industry=None, type=None, headquarters=None, company_size=None, founded=None), Interest(institution_name='', website=None, industry=None, type=None, headquarters=None, company_size=None, founded=None)]\n",
      "\n",
      "Skills\n",
      "[Skill(name='Computer-Aided Design (CAD)\\nComputer-Aided Design (CAD)', endorsements=None), Skill(name='Autodesk Inventor\\nAutodesk Inventor', endorsements=None), Skill(name='Mechanical Engineering\\nMechanical Engineering', endorsements='4 experiences across MACMET ENGINEERING LIMITED and 3 other companies\\n4 experiences across MACMET ENGINEERING LIMITED and 3 other companies')]\n"
     ]
    }
   ],
   "source": [
    "print(profile_data)"
   ]
  }
 ],
 "metadata": {
  "interpreter": {
   "hash": "0ad0b9a85f85437b2f5fb4acfab1906ce97191c57cc4fd169b6587dea84ff4b9"
  },
  "kernelspec": {
   "display_name": "Python 3.8.12 ('vincitori')",
   "language": "python",
   "name": "python3"
  },
  "language_info": {
   "codemirror_mode": {
    "name": "ipython",
    "version": 3
   },
   "file_extension": ".py",
   "mimetype": "text/x-python",
   "name": "python",
   "nbconvert_exporter": "python",
   "pygments_lexer": "ipython3",
   "version": "3.8.12"
  },
  "orig_nbformat": 4
 },
 "nbformat": 4,
 "nbformat_minor": 2
}
